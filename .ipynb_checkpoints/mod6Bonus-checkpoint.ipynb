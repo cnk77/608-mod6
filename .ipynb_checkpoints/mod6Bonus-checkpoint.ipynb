{
 "cells": [
  {
   "cell_type": "code",
   "execution_count": 14,
   "id": "216355ab-15c4-45b3-80b2-be90224a22d1",
   "metadata": {},
   "outputs": [
    {
     "name": "stdout",
     "output_type": "stream",
     "text": [
      "     status  gender department  frequency\n",
      "0  Admitted    Male          A        512\n",
      "1  Rejected    Male          A        313\n",
      "2  Admitted  Female          A         89\n",
      "3  Rejected  Female          A         19\n",
      "4  Admitted    Male          B        353\n",
      "        frequency\n",
      "count   24.000000\n",
      "mean   188.583333\n",
      "std    140.063624\n",
      "min      8.000000\n",
      "25%     80.000000\n",
      "50%    170.000000\n",
      "75%    302.500000\n",
      "max    512.000000\n",
      "count       24\n",
      "unique       2\n",
      "top       True\n",
      "freq        12\n",
      "Name: gender, dtype: object\n",
      "count        24\n",
      "unique        2\n",
      "top       False\n",
      "freq         12\n",
      "Name: gender, dtype: object\n",
      "count        24\n",
      "unique        2\n",
      "top       False\n",
      "freq         20\n",
      "Name: department, dtype: object\n",
      "Using matplotlib backend: QtAgg\n"
     ]
    }
   ],
   "source": [
    "# Module 6 Project: Bonus\n",
    "\n",
    "# Kyle Hudson\n",
    "\n",
    "# 1. Use pandas to import a new, unique csv dataset into a DataFrame.\n",
    "\n",
    "import pandas as pd\n",
    "\n",
    "ucb_admissions = pd.read_csv('UCBAdmissions.csv')\n",
    "\n",
    "\n",
    "# Use the DataFrame commands to clean the data as needed and/or rename the columns\n",
    "\n",
    "ucb_admissions.columns = ['', 'status', 'gender', 'department', 'frequency']\n",
    "\n",
    "ucb_admissions.drop([''], axis=1, inplace=True)\n",
    "\n",
    "print(ucb_admissions.head())\n",
    "\n",
    "# Use the DataFrame describe() function to calculate basic descriptive statistics. \n",
    "\n",
    "print(ucb_admissions.describe())\n",
    "print((ucb_admissions.gender == 'Male').describe())\n",
    "print((ucb_admissions.gender == 'Female').describe())\n",
    "print((ucb_admissions.department == 'E').describe())\n",
    "\n",
    "# Use the DataFrame hist() function to generate histograms for the numeric columns. \n",
    "\n",
    "%matplotlib\n",
    "\n",
    "histogram = ucb_admissions.hist()"
   ]
  }
 ],
 "metadata": {
  "kernelspec": {
   "display_name": "Python 3 (ipykernel)",
   "language": "python",
   "name": "python3"
  },
  "language_info": {
   "codemirror_mode": {
    "name": "ipython",
    "version": 3
   },
   "file_extension": ".py",
   "mimetype": "text/x-python",
   "name": "python",
   "nbconvert_exporter": "python",
   "pygments_lexer": "ipython3",
   "version": "3.8.12"
  }
 },
 "nbformat": 4,
 "nbformat_minor": 5
}
