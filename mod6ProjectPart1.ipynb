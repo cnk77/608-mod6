{
 "cells": [
  {
   "cell_type": "code",
   "execution_count": 2,
   "id": "9c4c5aa9-9fb6-4486-8530-7322e196a713",
   "metadata": {},
   "outputs": [
    {
     "name": "stdout",
     "output_type": "stream",
     "text": [
      "                        Unnamed: 0 survived     sex    age passengerClass\n",
      "0    Allen, Miss. Elisabeth Walton      yes  female  29.00            1st\n",
      "1   Allison, Master. Hudson Trevor      yes    male   0.92            1st\n",
      "2     Allison, Miss. Helen Loraine       no  female   2.00            1st\n",
      "3  Allison, Mr. Hudson Joshua Crei       no    male  30.00            1st\n",
      "4  Allison, Mrs. Hudson J C (Bessi       no  female  25.00            1st\n",
      "                     Unnamed: 0 survived     sex   age passengerClass\n",
      "1304       Zabour, Miss. Hileni       no  female  14.5            3rd\n",
      "1305      Zabour, Miss. Thamine       no  female   NaN            3rd\n",
      "1306  Zakarian, Mr. Mapriededer       no    male  26.5            3rd\n",
      "1307        Zakarian, Mr. Ortin       no    male  27.0            3rd\n",
      "1308         Zimmerman, Mr. Leo       no    male  29.0            3rd\n",
      "           age\n",
      "count  1046.00\n",
      "mean     29.88\n",
      "std      14.41\n",
      "min       0.17\n",
      "25%      21.00\n",
      "50%      28.00\n",
      "75%      39.00\n",
      "max      80.00\n",
      "count      1309\n",
      "unique        2\n",
      "top       False\n",
      "freq        809\n",
      "Name: survived, dtype: object\n",
      "Using matplotlib backend: QtAgg\n"
     ]
    }
   ],
   "source": [
    "# Module 6 Project: Part 1\n",
    "\n",
    "# Kyle Hudson\n",
    "\n",
    "# 1. Follow the instructions in 9.12.3 and use pandas to read in the Titanic Disaster dataset csv file\n",
    "\n",
    "import pandas as pd\n",
    "\n",
    "titanic = pd.read_csv('https://vincentarelbundock.github.io/Rdatasets/csv/carData/TitanicSurvival.csv')\n",
    "\n",
    "# 2. Set the precision to 2 decimal places.\n",
    "\n",
    "pd.set_option('precision', 2)\n",
    "\n",
    "# 3. View the head and tail of the file\n",
    "\n",
    "print(titanic.head())\n",
    "print(titanic.tail())\n",
    "\n",
    "# 4. Follow the instructions to customize the column headings\n",
    "\n",
    "titanic.columns = ['name', 'survived', 'sex', 'age', 'class']\n",
    "\n",
    "# 5. Use the DataFrame describe() function to calculate basic descriptive statistics for the numeric columns.\n",
    "\n",
    "print(titanic.describe())\n",
    "\n",
    "# 6. Follow instructions to describe statistics for those who survived (titanic.survived == 'yes') \n",
    "\n",
    "print((titanic.survived == 'yes').describe())\n",
    "\n",
    "# 8. enable matplotlib\n",
    "\n",
    "%matplotlib\n",
    "\n",
    "# 9. Use the DataFrame's hist() function to create a histograms for each numerical column\n",
    "\n",
    "histogram = titanic.hist()"
   ]
  }
 ],
 "metadata": {
  "kernelspec": {
   "display_name": "Python 3 (ipykernel)",
   "language": "python",
   "name": "python3"
  },
  "language_info": {
   "codemirror_mode": {
    "name": "ipython",
    "version": 3
   },
   "file_extension": ".py",
   "mimetype": "text/x-python",
   "name": "python",
   "nbconvert_exporter": "python",
   "pygments_lexer": "ipython3",
   "version": "3.8.12"
  }
 },
 "nbformat": 4,
 "nbformat_minor": 5
}
