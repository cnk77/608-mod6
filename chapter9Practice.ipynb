{
 "cells": [
  {
   "cell_type": "code",
   "execution_count": 1,
   "id": "573bdd2e-c31a-4a97-95ab-d76d9146d5be",
   "metadata": {},
   "outputs": [],
   "source": [
    "# 9.3 Text-file Processing\n",
    "\n",
    "# 9.3.1 9.3.1 Writing to a Text File: Introducing the with Statement\n",
    "\n",
    "with open('accounts.txt', mode='w') as accounts:\n",
    "    accounts.write('100 Jones 24.98\\n')\n",
    "    accounts.write('200 Doe 345.67\\n')\n",
    "    accounts.write('300 White 0.00\\n')\n",
    "    accounts.write('400 Stone -42.16\\n')\n",
    "    accounts.write('500 Rich 224.62\\n')"
   ]
  },
  {
   "cell_type": "code",
   "execution_count": 2,
   "id": "c7ee4f4f-a266-4277-861c-67ff5b70f2cd",
   "metadata": {},
   "outputs": [],
   "source": [
    "# 9.3.1 Self-Check 3: Create a grades.txt file and write to it the following three records consisting of student IDs, last names and letter grades:\n",
    "# 1 Red A\n",
    "# 2 Green B\n",
    "# 3 White A\n",
    "\n",
    "with open('grades.txt', mode='w') as grades:\n",
    "    grades.write('1 Red A\\n')\n",
    "    grades.write('2 Green B\\n')\n",
    "    grades.write('3 White A\\n')"
   ]
  },
  {
   "cell_type": "code",
   "execution_count": 5,
   "id": "4a04b22d-4255-4ecd-9ae2-772f69a989a1",
   "metadata": {},
   "outputs": [
    {
     "name": "stdout",
     "output_type": "stream",
     "text": [
      "Account   Name         Balance\n",
      "100       Jones          24.98\n",
      "200       Doe           345.67\n",
      "300       White           0.00\n",
      "400       Stone         -42.16\n",
      "500       Rich          224.62\n"
     ]
    }
   ],
   "source": [
    "# 9.3.2 Reading Data from a text file\n",
    "\n",
    "with open('accounts.txt', mode='r') as accounts:\n",
    "    print(f'{\"Account\":<10}{\"Name\":<10}{\"Balance\":>10}')\n",
    "    for record in accounts:\n",
    "        account, name, balance = record.split()\n",
    "        print(f'{account:<10}{name:<10}{balance:>10}')"
   ]
  },
  {
   "cell_type": "code",
   "execution_count": 10,
   "id": "2793be17-b671-46ea-b5d8-b4574e7e4e8d",
   "metadata": {},
   "outputs": [
    {
     "name": "stdout",
     "output_type": "stream",
     "text": [
      "ID        Name      Grade     \n",
      "1         Red       A         \n",
      "2         Green     B         \n",
      "3         White     A         \n"
     ]
    }
   ],
   "source": [
    "# 9.3.2 Self-Check 3:Read the file grades.txt that you created in the previous section’s Self Check and display\n",
    "# it in columns with the column heads 'ID', 'Name' and 'Grade'.\n",
    "\n",
    "with open('grades.txt', mode='r') as grades:\n",
    "    print(f'{\"ID\":<10}{\"Name\":<10}{\"Grade\":<10}')\n",
    "    for record in grades:\n",
    "        stud_id, name, grade = record.split()\n",
    "        print(f'{stud_id:<10}{name:<10}{grade:<10}')"
   ]
  },
  {
   "cell_type": "code",
   "execution_count": 4,
   "id": "73b0fc5d-01ef-4b85-b3af-b93fbbd29d73",
   "metadata": {},
   "outputs": [],
   "source": [
    "# 9.4 Updating Text Files\n",
    "\n",
    "accounts = open('accounts.txt', 'r')\n",
    "\n",
    "temp_file = open('temp_file.txt', 'w')\n",
    "\n",
    "with accounts, temp_file:\n",
    "    for record in accounts:\n",
    "        account, name, balance = record.split()\n",
    "        if account != '300':\n",
    "            temp_file.write(record)\n",
    "        else:\n",
    "            new_record = ' '.join([account, 'Williams', balance])\n",
    "            temp_file.write(new_record + '\\n')\n",
    "\n",
    "# os Module File_Processing Functions\n",
    "\n",
    "import os\n",
    "\n",
    "os.remove('accounts.txt')\n",
    "\n",
    "os.rename('temp_file.txt', 'accounts.txt')"
   ]
  },
  {
   "cell_type": "code",
   "execution_count": 6,
   "id": "2c529761-583d-4a4e-a351-6cb53e000ee5",
   "metadata": {},
   "outputs": [],
   "source": [
    "# 9.4 Self-Check 3: In the accounts.txt file, update the last name 'Doe' to 'Smith'.\n",
    "\n",
    "import os\n",
    "\n",
    "accounts = open('accounts.txt', 'r')\n",
    "\n",
    "temp_file = open('temp_file.txt', 'w')\n",
    "\n",
    "with accounts, temp_file:\n",
    "    for record in accounts:\n",
    "        account, name, balance = record.split()\n",
    "        if account != '200':\n",
    "            temp_file.write(record)\n",
    "        else:\n",
    "            new_record = ' '.join([account, 'Smith', balance])\n",
    "            temp_file.write(new_record + '\\n')\n",
    "\n",
    "os.remove('accounts.txt')\n",
    "os.rename('temp_file.txt', 'accounts.txt')"
   ]
  },
  {
   "cell_type": "code",
   "execution_count": 12,
   "id": "b6fb0b35-b8f4-42ca-b7ce-28b2c55f41ca",
   "metadata": {},
   "outputs": [
    {
     "name": "stdout",
     "output_type": "stream",
     "text": [
      "[{'account': 100, 'name': 'Jones', 'balance': 24.98}, {'account': 200, 'name': 'Doe', 'balance': 345.67}]\n",
      "{'account': 100, 'name': 'Jones', 'balance': 24.98}\n",
      "{'account': 200, 'name': 'Doe', 'balance': 345.67}\n",
      "{\n",
      "    \"accounts\": [\n",
      "        {\n",
      "            \"account\": 100,\n",
      "            \"name\": \"Jones\",\n",
      "            \"balance\": 24.98\n",
      "        },\n",
      "        {\n",
      "            \"account\": 200,\n",
      "            \"name\": \"Doe\",\n",
      "            \"balance\": 345.67\n",
      "        }\n",
      "    ]\n",
      "}\n"
     ]
    }
   ],
   "source": [
    "# 9.5 Serialization with JSON\n",
    "\n",
    "# Pthon Standard Library Module json\n",
    "\n",
    "accounts_dict = {'accounts':[\n",
    "    {'account': 100, 'name': 'Jones', 'balance':24.98},\n",
    "    {'account': 200, 'name': 'Doe', 'balance': 345.67}]}\n",
    "\n",
    "# Serializing an Object to JSON\n",
    "\n",
    "import json\n",
    "\n",
    "with open('accounts.json', 'w') as accounts:\n",
    "    json.dump(accounts_dict, accounts)\n",
    "\n",
    "# Deserializing the JSON Text\n",
    "\n",
    "with open('accounts.json', 'r') as accounts:\n",
    "    accounts_json = json.load(accounts)\n",
    "    \n",
    "print(accounts_json['accounts'])\n",
    "print(accounts_json['accounts'][0])\n",
    "print(accounts_json['accounts'][1])\n",
    "\n",
    "# Displaying the JSON Text\n",
    "\n",
    "with open('accounts.json', 'r') as accounts:\n",
    "    print(json.dumps(json.load(accounts), indent=4))"
   ]
  },
  {
   "cell_type": "code",
   "execution_count": 14,
   "id": "239818f3-987a-433f-8b8f-a9234ba23790",
   "metadata": {},
   "outputs": [
    {
     "name": "stdout",
     "output_type": "stream",
     "text": [
      "{\n",
      "    \"gradebook\": [\n",
      "        {\n",
      "            \"student_id\": 1,\n",
      "            \"name\": \"Red\",\n",
      "            \"grade\": \"A\"\n",
      "        },\n",
      "        {\n",
      "            \"student_id\": 2,\n",
      "            \"name\": \"Green\",\n",
      "            \"grade\": \"B\"\n",
      "        },\n",
      "        {\n",
      "            \"student_id\": 3,\n",
      "            \"name\": \"White\",\n",
      "            \"grade\": \"A\"\n",
      "        }\n",
      "    ]\n",
      "}\n"
     ]
    }
   ],
   "source": [
    "# 9.5 Self-Check 3: Create a JSON file named grades.json and write into it the following dictionary:\n",
    "\n",
    "grades_dict = {'gradebook':\n",
    "    [{'student_id': 1, 'name': 'Red', 'grade': 'A'},\n",
    "     {'student_id': 2, 'name': 'Green', 'grade': 'B'},\n",
    "     {'student_id': 3, 'name': 'White', 'grade': 'A'}]}\n",
    "\n",
    "import json\n",
    "\n",
    "with open('grades.json', 'w') as grades:\n",
    "    grades_json = json.dump(grades_dict, grades)\n",
    "    \n",
    "with open('grades.json', 'r') as grades:\n",
    "    print(json.dumps(json.load(grades), indent=4))"
   ]
  },
  {
   "cell_type": "code",
   "execution_count": 15,
   "id": "9beca6f0-91f4-4808-8dcf-695bcf28c16f",
   "metadata": {},
   "outputs": [
    {
     "name": "stdin",
     "output_type": "stream",
     "text": [
      "Enter numerator:  5\n",
      "Enter denominator:  stack\n"
     ]
    },
    {
     "name": "stdout",
     "output_type": "stream",
     "text": [
      "You must enter two integers\n",
      "\n"
     ]
    },
    {
     "name": "stdin",
     "output_type": "stream",
     "text": [
      "Enter numerator:  5\n",
      "Enter denominator:  0\n"
     ]
    },
    {
     "name": "stdout",
     "output_type": "stream",
     "text": [
      "Attempted to divide by zero\n",
      "\n"
     ]
    },
    {
     "name": "stdin",
     "output_type": "stream",
     "text": [
      "Enter numerator:  5\n",
      "Enter denominator:  10\n"
     ]
    },
    {
     "name": "stdout",
     "output_type": "stream",
     "text": [
      "5.000 / 10.000 = 0.500\n"
     ]
    }
   ],
   "source": [
    "# 9.8 Handling Exceptions\n",
    "\n",
    "# 9.8.2 try Statements\n",
    "\n",
    "\"\"\"Simple exception handling example.\"\"\"\n",
    "\n",
    "while True:\n",
    "    # attempt to convert and divide values\n",
    "    try:\n",
    "        number1 = int(input('Enter numerator: '))\n",
    "        number2 = int(input('Enter denominator: '))\n",
    "        result = number1 / number2\n",
    "    except ValueError: # tried to convert non-numeric value to int\n",
    "        print('You must enter two integers\\n')\n",
    "    except ZeroDivisionError: # denominator was 0\n",
    "        print('Attempted to divide by zero\\n')\n",
    "    else: # exectues only if no exceptions occur\n",
    "        print(f'{number1:.3f} / {number2:.3f} = {result:.3f}')\n",
    "        break  # terminates the loop\n"
   ]
  },
  {
   "cell_type": "code",
   "execution_count": 20,
   "id": "e7a2adbc-461d-4990-a8a0-d1e953769b4a",
   "metadata": {},
   "outputs": [
    {
     "name": "stdout",
     "output_type": "stream",
     "text": [
      "int(10.7) is 10\n",
      "None\n",
      "Python could not be converted to an integer\n",
      "None\n"
     ]
    }
   ],
   "source": [
    "# 9.8 Self-Check 3: Before executing the IPython session, determine what the following function \n",
    "# displays if you call it with the value 10.7 then the value 'Python'?\n",
    "\n",
    "def try_it(value):\n",
    "    try:\n",
    "        x = int(value)\n",
    "    except ValueError:\n",
    "        print(f'{value} could not be converted to an integer')\n",
    "    else:\n",
    "        print(f'int({value}) is {int(value)}')\n",
    "        \n",
    "# 10.7 would display 'int(10.7) is 10'\n",
    "# 'Python' would display 'int(Python) could not be converted to an integer'\n",
    "\n",
    "print(try_it(10.7))\n",
    "print(try_it('Python'))\n"
   ]
  },
  {
   "cell_type": "code",
   "execution_count": 29,
   "id": "c6b8a503-1bd7-44aa-a7b0-63c18c6ce24b",
   "metadata": {},
   "outputs": [
    {
     "name": "stdout",
     "output_type": "stream",
     "text": [
      "try suite with no exceptions raised\n",
      "else executes because no exceptions in the try suite\n",
      "finally always executes\n",
      "try suite that raises an exception\n",
      "a ValueError occurred\n",
      "finally always executes\n",
      "The file name you specified does not exist\n"
     ]
    }
   ],
   "source": [
    "# 9.9 finally Clause\n",
    "\n",
    "try:\n",
    "    print('try suite with no exceptions raised')\n",
    "except:\n",
    "    print('this will not execute')\n",
    "else:\n",
    "    print('else executes because no exceptions in the try suite')\n",
    "finally:\n",
    "    print('finally always executes')\n",
    "    \n",
    "try:\n",
    "    print('try suite that raises an exception')\n",
    "    int('hello')\n",
    "    print('this will not execute')\n",
    "except ValueError:\n",
    "    print('a ValueError occurred')\n",
    "else:\n",
    "    print('else will not execute because an exception occurred')\n",
    "finally:\n",
    "    print('finally always executes')\n",
    "    \n",
    "# Combining with Statements and try...except Statements\n",
    "\n",
    "try:\n",
    "    with open('gradez.txt', 'r') as accounts:\n",
    "        print(f'{\"ID\":<3}{\"Name\":<7}{\"Grade\"}')\n",
    "        for record in accounts:\n",
    "            student_id, name, grade = record.split()\n",
    "            print(f'{student_id:<3}{name:<7}{grade}')\n",
    "except FileNotFoundError:\n",
    "    print('The file name you specified does not exist')"
   ]
  },
  {
   "cell_type": "code",
   "execution_count": 30,
   "id": "f1939ca3-66a2-4e25-b862-832f92a33e6f",
   "metadata": {},
   "outputs": [
    {
     "name": "stdout",
     "output_type": "stream",
     "text": [
      "int(10.7) is 10\n",
      "finally executed\n",
      "None\n",
      "Python could not be converted to an integer\n",
      "finally executed\n",
      "None\n"
     ]
    }
   ],
   "source": [
    "# 9.9 Self-Check 3: Before executing the IPython session, determine what the following function displays \n",
    "# if you call it with the value 10.7, then the value 'Python'?\n",
    "\n",
    "def try_it(value):\n",
    "    try:\n",
    "        x = int(value)\n",
    "    except ValueError:\n",
    "        print(f'{value} could not be converted to an integer')\n",
    "    else:\n",
    "        print(f'int({value}) is {int(value)}')\n",
    "    finally:\n",
    "        print('finally executed')\n",
    "        \n",
    "# 10.7 will display 'int(10.7) is 10\\nfinally executed'\n",
    "# 'Python' will display 'Python could not be converted to an integer\\nfinally executed'\n",
    "\n",
    "print(try_it(10.7))\n",
    "print(try_it('Python'))\n"
   ]
  },
  {
   "cell_type": "code",
   "execution_count": 35,
   "id": "18125add-29f8-413b-a885-7e96368fb26b",
   "metadata": {},
   "outputs": [
    {
     "name": "stdout",
     "output_type": "stream",
     "text": [
      "Account   Name         Balance\n",
      "100       Jones          24.98\n",
      "200       Doe           345.67\n",
      "300       White            0.0\n",
      "400       Stone         -42.16\n",
      "500       Rich          224.62\n"
     ]
    }
   ],
   "source": [
    "# 9.12 Intro to Data Science: Working with CSV Files\n",
    "\n",
    "# 9.12.1 Python Standard Library Module csv\n",
    "# Writing to a CSV File\n",
    "\n",
    "import csv\n",
    "\n",
    "with open('accounts.csv', mode='w', newline='') as accounts:\n",
    "    writer = csv.writer(accounts)\n",
    "    writer.writerow([100, 'Jones', 24.98])\n",
    "    writer.writerow([200, 'Doe', 345.67])\n",
    "    writer.writerow([300, 'White', 0.00])\n",
    "    writer.writerow([400, 'Stone', -42.16])\n",
    "    writer.writerow([500, 'Rich', 224.62])\n",
    "\n",
    "# Reading From a CSV File\n",
    "\n",
    "with open('accounts.csv', 'r', newline='') as accounts:\n",
    "    print(f'{\"Account\":<10}{\"Name\":<10}{\"Balance\":>10}')\n",
    "    reader = csv.reader(accounts)\n",
    "    for record in reader:\n",
    "        account, name, balance = record\n",
    "        print(f'{account:<10}{name:<10}{balance:>10}')"
   ]
  },
  {
   "cell_type": "code",
   "execution_count": 36,
   "id": "884fae43-0b0a-45a8-a0dd-fd0cc34bb3d3",
   "metadata": {},
   "outputs": [],
   "source": [
    "# 9.12.1 Self-Check 3: Create a text file named grades.csv and write to it the following three records \n",
    "# consisting of student IDs, last names and letter grades:\n",
    "# 1,Red,A\n",
    "# 2,Green,B\n",
    "# 3,White,A\n",
    "\n",
    "import csv\n",
    "\n",
    "with open('grades.csv', mode='w', newline='') as grades:\n",
    "    writer = csv.writer(grades)\n",
    "    writer.writerow([1, 'Red', 'A'])\n",
    "    writer.writerow([2, 'Green', 'B'])\n",
    "    writer.writerow([3, 'White', 'A'])"
   ]
  },
  {
   "cell_type": "code",
   "execution_count": 38,
   "id": "b2ddab05-3ade-4fd8-addb-734ab9bd3e8f",
   "metadata": {},
   "outputs": [
    {
     "name": "stdout",
     "output_type": "stream",
     "text": [
      "   account   name  balance\n",
      "0      100  Jones    24.98\n",
      "1      200    Doe   345.67\n",
      "2      300  White     0.00\n",
      "3      400  Stone   -42.16\n",
      "4      500   Rich   224.62\n"
     ]
    }
   ],
   "source": [
    "# 9.12.2 Reading CSV Files into Pandas DataFrames\n",
    "\n",
    "# Working with Locally Stored CSV Files\n",
    "\n",
    "import pandas as pd\n",
    "\n",
    "df = pd.read_csv('accounts.csv', names=['account', 'name', 'balance'])\n",
    "\n",
    "print(df)\n",
    "\n",
    "df.to_csv('accounts_from_dataframe.csv', index=False)"
   ]
  },
  {
   "cell_type": "code",
   "execution_count": 2,
   "id": "3b7e1e8c-1d0a-4e9e-b9f2-614d13dc32fa",
   "metadata": {},
   "outputs": [
    {
     "name": "stdout",
     "output_type": "stream",
     "text": [
      "                        Unnamed: 0 survived     sex    age passengerClass\n",
      "0    Allen, Miss. Elisabeth Walton      yes  female  29.00            1st\n",
      "1   Allison, Master. Hudson Trevor      yes    male   0.92            1st\n",
      "2     Allison, Miss. Helen Loraine       no  female   2.00            1st\n",
      "3  Allison, Mr. Hudson Joshua Crei       no    male  30.00            1st\n",
      "4  Allison, Mrs. Hudson J C (Bessi       no  female  25.00            1st\n",
      "                     Unnamed: 0 survived     sex   age passengerClass\n",
      "1304       Zabour, Miss. Hileni       no  female  14.5            3rd\n",
      "1305      Zabour, Miss. Thamine       no  female   NaN            3rd\n",
      "1306  Zakarian, Mr. Mapriededer       no    male  26.5            3rd\n",
      "1307        Zakarian, Mr. Ortin       no    male  27.0            3rd\n",
      "1308         Zimmerman, Mr. Leo       no    male  29.0            3rd\n",
      "                              name survived     sex    age class\n",
      "0    Allen, Miss. Elisabeth Walton      yes  female  29.00   1st\n",
      "1   Allison, Master. Hudson Trevor      yes    male   0.92   1st\n",
      "2     Allison, Miss. Helen Loraine       no  female   2.00   1st\n",
      "3  Allison, Mr. Hudson Joshua Crei       no    male  30.00   1st\n",
      "4  Allison, Mrs. Hudson J C (Bessi       no  female  25.00   1st\n",
      "           age\n",
      "count  1046.00\n",
      "mean     29.88\n",
      "std      14.41\n",
      "min       0.17\n",
      "25%      21.00\n",
      "50%      28.00\n",
      "75%      39.00\n",
      "max      80.00\n",
      "count      1309\n",
      "unique        2\n",
      "top       False\n",
      "freq        809\n",
      "Name: survived, dtype: object\n",
      "Using matplotlib backend: QtAgg\n"
     ]
    }
   ],
   "source": [
    "# 9.12.3 Reading the Titanic Disaster Dataset\n",
    "\n",
    "import pandas as pd\n",
    "\n",
    "titanic = pd.read_csv('https://vincentarelbundock.github.io/Rdatasets/csv/carData/TitanicSurvival.csv')\n",
    "\n",
    "pd.set_option('precision', 2)  # format for floating-point values\n",
    "\n",
    "print(titanic.head())\n",
    "print(titanic.tail())\n",
    "\n",
    "titanic.columns = ['name', 'survived', 'sex', 'age', 'class']\n",
    "\n",
    "print(titanic.head())\n",
    "\n",
    "# 9.12.4 Simple Data Analysis with the Titanic Disaster Database\n",
    "\n",
    "print(titanic.describe())\n",
    "print((titanic.survived == 'yes').describe())\n",
    "\n",
    "# 9.12.5 Passenger Age Histogram\n",
    "\n",
    "%matplotlib\n",
    "\n",
    "histogram = titanic.hist()\n",
    "\n"
   ]
  },
  {
   "cell_type": "code",
   "execution_count": 3,
   "id": "ca7148ef-db4d-4491-b8b4-425443cd6af1",
   "metadata": {},
   "outputs": [
    {
     "name": "stdout",
     "output_type": "stream",
     "text": [
      "   Student ID   Name Grade\n",
      "0           1    Red     A\n",
      "1           2  Green     B\n",
      "2           3  White     A\n"
     ]
    }
   ],
   "source": [
    "# 9.12 Self-Check 2: Load the grades.csv file you created in the Section 9.12.1’s Self Check into a DataFrame, then display it.\n",
    "\n",
    "import pandas as pd\n",
    "\n",
    "df = pd.read_csv('grades.csv', names=['Student ID', 'Name', 'Grade'])\n",
    "\n",
    "print(df)"
   ]
  }
 ],
 "metadata": {
  "kernelspec": {
   "display_name": "Python 3 (ipykernel)",
   "language": "python",
   "name": "python3"
  },
  "language_info": {
   "codemirror_mode": {
    "name": "ipython",
    "version": 3
   },
   "file_extension": ".py",
   "mimetype": "text/x-python",
   "name": "python",
   "nbconvert_exporter": "python",
   "pygments_lexer": "ipython3",
   "version": "3.8.12"
  }
 },
 "nbformat": 4,
 "nbformat_minor": 5
}
